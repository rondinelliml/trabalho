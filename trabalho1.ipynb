{
  "nbformat": 4,
  "nbformat_minor": 0,
  "metadata": {
    "colab": {
      "name": "trabalho1.ipynb",
      "version": "0.3.2",
      "provenance": [],
      "collapsed_sections": []
    },
    "kernelspec": {
      "display_name": "Python 3",
      "language": "python",
      "name": "python3"
    }
  },
  "cells": [
    {
      "metadata": {
        "id": "nstu_nthrpS0",
        "colab_type": "code",
        "colab": {}
      },
      "cell_type": "code",
      "source": [
        "# bibliotecas usadas\n",
        "import os\n",
        "import numpy as np\n",
        "import pandas as pd\n",
        "import matplotlib.pyplot as plt\n",
        "from sklearn.neural_network import MLPRegressor"
      ],
      "execution_count": 0,
      "outputs": []
    },
    {
      "metadata": {
        "id": "vqhywFVArpS1",
        "colab_type": "code",
        "colab": {}
      },
      "cell_type": "code",
      "source": [
        "# para gerar o grafico no browser\n",
        "%matplotlib inline"
      ],
      "execution_count": 0,
      "outputs": []
    },
    {
      "metadata": {
        "id": "Y3d_Zf9arpS3",
        "colab_type": "code",
        "outputId": "243a1fd3-64ce-4a14-92cb-a1ad0f8a3629",
        "colab": {
          "base_uri": "https://localhost:8080/",
          "height": 204
        }
      },
      "cell_type": "code",
      "source": [
        "# local dos dados e modifica o diretorio\n",
        "#path='/home/ucfilho/Documents/Aulas/Ago_29_2018'\n",
        "#os.chdir(path)\n",
        "!git clone http://github.com/rondinelliml/trabalho\n",
        "%cd trabalho\n",
        "!ls  "
      ],
      "execution_count": 128,
      "outputs": [
        {
          "output_type": "stream",
          "text": [
            "Cloning into 'trabalho'...\n",
            "warning: redirecting to https://github.com/rondinelliml/trabalho/\n",
            "remote: Enumerating objects: 22, done.\u001b[K\n",
            "remote: Counting objects:   4% (1/22)   \u001b[K\rremote: Counting objects:   9% (2/22)   \u001b[K\rremote: Counting objects:  13% (3/22)   \u001b[K\rremote: Counting objects:  18% (4/22)   \u001b[K\rremote: Counting objects:  22% (5/22)   \u001b[K\rremote: Counting objects:  27% (6/22)   \u001b[K\rremote: Counting objects:  31% (7/22)   \u001b[K\rremote: Counting objects:  36% (8/22)   \u001b[K\rremote: Counting objects:  40% (9/22)   \u001b[K\rremote: Counting objects:  45% (10/22)   \u001b[K\rremote: Counting objects:  50% (11/22)   \u001b[K\rremote: Counting objects:  54% (12/22)   \u001b[K\rremote: Counting objects:  59% (13/22)   \u001b[K\rremote: Counting objects:  63% (14/22)   \u001b[K\rremote: Counting objects:  68% (15/22)   \u001b[K\rremote: Counting objects:  72% (16/22)   \u001b[K\rremote: Counting objects:  77% (17/22)   \u001b[K\rremote: Counting objects:  81% (18/22)   \u001b[K\rremote: Counting objects:  86% (19/22)   \u001b[K\rremote: Counting objects:  90% (20/22)   \u001b[K\rremote: Counting objects:  95% (21/22)   \u001b[K\rremote: Counting objects: 100% (22/22)   \u001b[K\rremote: Counting objects: 100% (22/22), done.\u001b[K\n",
            "remote: Compressing objects:   4% (1/22)   \u001b[K\rremote: Compressing objects:   9% (2/22)   \u001b[K\rremote: Compressing objects:  13% (3/22)   \u001b[K\rremote: Compressing objects:  18% (4/22)   \u001b[K\rremote: Compressing objects:  22% (5/22)   \u001b[K\rremote: Compressing objects:  27% (6/22)   \u001b[K\rremote: Compressing objects:  31% (7/22)   \u001b[K\rremote: Compressing objects:  36% (8/22)   \u001b[K\rremote: Compressing objects:  40% (9/22)   \u001b[K\rremote: Compressing objects:  45% (10/22)   \u001b[K\rremote: Compressing objects:  50% (11/22)   \u001b[K\rremote: Compressing objects:  54% (12/22)   \u001b[K\rremote: Compressing objects:  59% (13/22)   \u001b[K\rremote: Compressing objects:  63% (14/22)   \u001b[K\rremote: Compressing objects:  68% (15/22)   \u001b[K\rremote: Compressing objects:  72% (16/22)   \u001b[K\rremote: Compressing objects:  77% (17/22)   \u001b[K\rremote: Compressing objects:  81% (18/22)   \u001b[K\rremote: Compressing objects:  86% (19/22)   \u001b[K\rremote: Compressing objects:  90% (20/22)   \u001b[K\rremote: Compressing objects:  95% (21/22)   \u001b[K\rremote: Compressing objects: 100% (22/22)   \u001b[K\rremote: Compressing objects: 100% (22/22), done.\u001b[K\n",
            "remote: Total 22 (delta 9), reused 0 (delta 0), pack-reused 0\u001b[K\n",
            "Unpacking objects:   4% (1/22)   \rUnpacking objects:   9% (2/22)   \rUnpacking objects:  13% (3/22)   \rUnpacking objects:  18% (4/22)   \rUnpacking objects:  22% (5/22)   \rUnpacking objects:  27% (6/22)   \rUnpacking objects:  31% (7/22)   \rUnpacking objects:  36% (8/22)   \rUnpacking objects:  40% (9/22)   \rUnpacking objects:  45% (10/22)   \rUnpacking objects:  50% (11/22)   \rUnpacking objects:  54% (12/22)   \rUnpacking objects:  59% (13/22)   \rUnpacking objects:  63% (14/22)   \rUnpacking objects:  68% (15/22)   \rUnpacking objects:  72% (16/22)   \rUnpacking objects:  77% (17/22)   \rUnpacking objects:  81% (18/22)   \rUnpacking objects:  86% (19/22)   \rUnpacking objects:  90% (20/22)   \rUnpacking objects:  95% (21/22)   \rUnpacking objects: 100% (22/22)   \rUnpacking objects: 100% (22/22), done.\n",
            "/content/trabalho/trabalho/trabalho/trabalho/trabalho\n",
            "'dados artigo.xlsx'\t\t  RBFNN_tranning_data1.csv\n",
            "'RBFNN error analysis data.csv'  'tranning data transp.csv'\n",
            " RBFNN_error_analysis_data.csv\n"
          ],
          "name": "stdout"
        }
      ]
    },
    {
      "metadata": {
        "id": "o_Nm65ssrpS4",
        "colab_type": "code",
        "colab": {
          "base_uri": "https://localhost:8080/",
          "height": 173
        },
        "outputId": "dfd0be1a-d57a-4c35-a875-9885e735dbd5"
      },
      "cell_type": "code",
      "source": [
        "# leitura dos dados\n",
        "DAT=pd.read_csv(\"RBFNN_tranning_data1.csv\",sep='\\;')\n",
        "print(DAT.head())\n",
        "#DAT=pd.read_csv(\"Hydrofoil_ago_29_2018.csv\",index_col=\"emit\")"
      ],
      "execution_count": 129,
      "outputs": [
        {
          "output_type": "stream",
          "text": [
            "     epp    epw     pp     vp    upp    upw   alfa      p\n",
            "0  0.069  0.085  29.39  0.197  0.113  2.000  37.18  13.72\n",
            "1  0.059  0.088  25.91  0.237  0.019  2.000  27.12  12.74\n",
            "2  0.017  0.016  25.76  0.217  0.118  2.000  37.27  11.78\n",
            "3  0.070  0.024  24.55  0.415  0.139  0.682  34.56  11.27\n",
            "4  0.000  0.036  23.03  0.157  0.091  1.000   0.00   0.00\n"
          ],
          "name": "stdout"
        },
        {
          "output_type": "stream",
          "text": [
            "/usr/local/lib/python3.6/dist-packages/ipykernel_launcher.py:1: ParserWarning: Falling back to the 'python' engine because the 'c' engine does not support regex separators (separators > 1 char and different from '\\s+' are interpreted as regex); you can avoid this warning by specifying engine='python'.\n",
            "  \"\"\"Entry point for launching an IPython kernel.\n"
          ],
          "name": "stderr"
        }
      ]
    },
    {
      "metadata": {
        "id": "U5I-jpUqrpS4",
        "colab_type": "code",
        "colab": {
          "base_uri": "https://localhost:8080/",
          "height": 119
        },
        "outputId": "b4426eee-bd7a-4264-dcb8-4e58997100e4"
      },
      "cell_type": "code",
      "source": [
        "# separa as colunas de interesse\n",
        "Index=range(8)\n",
        "Dat_Select=[]\n",
        "Dat_Select=DAT.iloc[:,Index].copy()\n",
        "print(Dat_Select.head())"
      ],
      "execution_count": 130,
      "outputs": [
        {
          "output_type": "stream",
          "text": [
            "     epp    epw     pp     vp    upp    upw   alfa      p\n",
            "0  0.069  0.085  29.39  0.197  0.113  2.000  37.18  13.72\n",
            "1  0.059  0.088  25.91  0.237  0.019  2.000  27.12  12.74\n",
            "2  0.017  0.016  25.76  0.217  0.118  2.000  37.27  11.78\n",
            "3  0.070  0.024  24.55  0.415  0.139  0.682  34.56  11.27\n",
            "4  0.000  0.036  23.03  0.157  0.091  1.000   0.00   0.00\n"
          ],
          "name": "stdout"
        }
      ]
    },
    {
      "metadata": {
        "id": "gw3LCK0srpS6",
        "colab_type": "code",
        "colab": {}
      },
      "cell_type": "code",
      "source": [
        "# funcao normatiza dados, intervalo de -1 a 1)\n",
        "def Normatiza(x):\n",
        "    strings=list(x)\n",
        "    for i in strings:\n",
        "        max_x=x[i].max()\n",
        "        min_x=x[i].min()\n",
        "        a=(max_x+min_x)/2\n",
        "        b=(max_x-min_x)/2\n",
        "        x[i]=(x[i]-a)/b\n",
        "    return x"
      ],
      "execution_count": 0,
      "outputs": []
    },
    {
      "metadata": {
        "id": "iSSMXrHIrpS6",
        "colab_type": "code",
        "colab": {}
      },
      "cell_type": "code",
      "source": [
        "# funcao retorna os dados a forma original\n",
        "def Original(x,x_old):\n",
        "    strings=list(x)\n",
        "    for i in strings:\n",
        "        max_x=x_old[i].max()\n",
        "        min_x=x_old[i].min()\n",
        "        a=(max_x+min_x)/2\n",
        "        b=(max_x-min_x)/2\n",
        "        x[i]=x[i]*b+a\n",
        "    return x"
      ],
      "execution_count": 0,
      "outputs": []
    },
    {
      "metadata": {
        "id": "eSTPtYg_rpS6",
        "colab_type": "code",
        "colab": {
          "base_uri": "https://localhost:8080/",
          "height": 238
        },
        "outputId": "cb0cf63c-0264-476a-c0fd-695ce5168c10"
      },
      "cell_type": "code",
      "source": [
        "# separa os dados em normatizados e originais\n",
        "DAT_OLD=[]\n",
        "# Guarda os dados antes de serem normatizados, para que não sejam perdidos\n",
        "DAT_OLD=Dat_Select.copy()\n",
        "DAT=Normatiza(Dat_Select)\n",
        "print(DAT.head())\n",
        "print('================================================================')\n",
        "print(DAT_OLD.head())"
      ],
      "execution_count": 133,
      "outputs": [
        {
          "output_type": "stream",
          "text": [
            "    epp   epw        pp     vp       upp    upw      alfa         p\n",
            "0  0.38  0.70  0.918667 -0.515  0.471429  0.500  0.610221  0.879452\n",
            "1  0.18  0.76  0.454667 -0.315 -0.871429  0.500  0.174534  0.745205\n",
            "2 -0.66 -0.68  0.434667 -0.415  0.542857  0.500  0.614119  0.613699\n",
            "3  0.40 -0.52  0.273333  0.575  0.842857 -0.818  0.496752  0.543836\n",
            "4 -1.00 -0.28  0.070667 -0.715  0.157143 -0.500 -1.000000 -1.000000\n",
            "================================================================\n",
            "     epp    epw     pp     vp    upp    upw   alfa      p\n",
            "0  0.069  0.085  29.39  0.197  0.113  2.000  37.18  13.72\n",
            "1  0.059  0.088  25.91  0.237  0.019  2.000  27.12  12.74\n",
            "2  0.017  0.016  25.76  0.217  0.118  2.000  37.27  11.78\n",
            "3  0.070  0.024  24.55  0.415  0.139  0.682  34.56  11.27\n",
            "4  0.000  0.036  23.03  0.157  0.091  1.000   0.00   0.00\n"
          ],
          "name": "stdout"
        }
      ]
    },
    {
      "metadata": {
        "id": "vONrB2VKrpS7",
        "colab_type": "code",
        "colab": {
          "base_uri": "https://localhost:8080/",
          "height": 306
        },
        "outputId": "f48e5a44-ff5d-4b6c-ad5b-23e384f4de4e"
      },
      "cell_type": "code",
      "source": [
        "# separa os dados em treino e teste\n",
        "train=DAT.sample(frac=0.75,random_state=None) # poderia ser frac=0.5? sim ou nao?\n",
        "test=DAT.drop(train.index)\n",
        "#train e test possui tanto x (entrada/independente) quanto y (saida/dependente)\n",
        "print(train.head())\n",
        "print(\"===================================================================\")\n",
        "print(train.shape[0]) #mostrar o numero de linhas\n",
        "print(\"===================================================================\")\n",
        "print(test.head())\n",
        "print(\"===================================================================\")\n",
        "print(test.shape[0])"
      ],
      "execution_count": 134,
      "outputs": [
        {
          "output_type": "stream",
          "text": [
            "     epp   epw        pp    vp       upp    upw      alfa         p\n",
            "84 -0.14 -0.40 -0.474667  1.00  0.457143 -0.051 -1.000000 -1.000000\n",
            "19 -0.48 -0.96 -0.152000 -0.01  0.314286 -0.798  0.597228  0.369863\n",
            "50  0.06  0.08 -0.838667  0.11 -1.000000 -0.374  0.023387  0.086301\n",
            "44 -0.36  0.44 -0.232000  0.98 -0.500000 -0.354  0.165440  0.356164\n",
            "20 -0.18 -0.12 -0.434667 -0.78  0.657143 -0.838  1.000000  0.212329\n",
            "===================================================================\n",
            "75\n",
            "===================================================================\n",
            "    epp   epw        pp     vp       upp    upw      alfa         p\n",
            "0  0.38  0.70  0.918667 -0.515  0.471429  0.500  0.610221  0.879452\n",
            "1  0.18  0.76  0.454667 -0.315 -0.871429  0.500  0.174534  0.745205\n",
            "3  0.40 -0.52  0.273333  0.575  0.842857 -0.818  0.496752  0.543836\n",
            "5  0.08  0.40  0.797333  0.800  0.885714 -0.500  0.694240  0.778082\n",
            "9 -0.06  0.98  0.252000 -0.735  0.014286 -0.500 -1.000000 -1.000000\n",
            "===================================================================\n",
            "25\n"
          ],
          "name": "stdout"
        }
      ]
    },
    {
      "metadata": {
        "id": "GEyLpvY4rpS8",
        "colab_type": "code",
        "colab": {
          "base_uri": "https://localhost:8080/",
          "height": 357
        },
        "outputId": "456b1432-001e-4173-fe73-1993af512c5e"
      },
      "cell_type": "code",
      "source": [
        "# obtem as variaveis independentes (treino e teste)\n",
        "x_train=train.iloc[:,[0,1,2,3,4,5]]\n",
        "x_test=test.iloc[:,[0,1,2,3,4,5]]\n",
        "X_OLD=DAT_OLD.iloc[:,[0,1,2,3,4,5]]\n",
        "print(x_test.head())\n",
        "print('================================================================')\n",
        "print(x_train.head())\n",
        "print('================================================================')\n",
        "print(X_OLD.head())"
      ],
      "execution_count": 135,
      "outputs": [
        {
          "output_type": "stream",
          "text": [
            "    epp   epw        pp     vp       upp    upw\n",
            "0  0.38  0.70  0.918667 -0.515  0.471429  0.500\n",
            "1  0.18  0.76  0.454667 -0.315 -0.871429  0.500\n",
            "3  0.40 -0.52  0.273333  0.575  0.842857 -0.818\n",
            "5  0.08  0.40  0.797333  0.800  0.885714 -0.500\n",
            "9 -0.06  0.98  0.252000 -0.735  0.014286 -0.500\n",
            "================================================================\n",
            "     epp   epw        pp    vp       upp    upw\n",
            "84 -0.14 -0.40 -0.474667  1.00  0.457143 -0.051\n",
            "19 -0.48 -0.96 -0.152000 -0.01  0.314286 -0.798\n",
            "50  0.06  0.08 -0.838667  0.11 -1.000000 -0.374\n",
            "44 -0.36  0.44 -0.232000  0.98 -0.500000 -0.354\n",
            "20 -0.18 -0.12 -0.434667 -0.78  0.657143 -0.838\n",
            "================================================================\n",
            "     epp    epw     pp     vp    upp    upw\n",
            "0  0.069  0.085  29.39  0.197  0.113  2.000\n",
            "1  0.059  0.088  25.91  0.237  0.019  2.000\n",
            "2  0.017  0.016  25.76  0.217  0.118  2.000\n",
            "3  0.070  0.024  24.55  0.415  0.139  0.682\n",
            "4  0.000  0.036  23.03  0.157  0.091  1.000\n"
          ],
          "name": "stdout"
        }
      ]
    },
    {
      "metadata": {
        "id": "LIKwr06SrpS9",
        "colab_type": "code",
        "colab": {
          "base_uri": "https://localhost:8080/",
          "height": 867
        },
        "outputId": "96010ad7-1ede-4cbb-d788-8da3b42965e1"
      },
      "cell_type": "code",
      "source": [
        "# obtem as variaveis dependentes (treino e teste)\n",
        "Index=[6,7]\n",
        "Y_OLD=DAT_OLD.iloc[:,Index]\n",
        "print(Y_OLD.head())\n",
        "\n",
        "Index=[6] #alfa\n",
        "Y_OLD_alfa=DAT_OLD.iloc[:,Index]\n",
        "y_train_alfa=train.iloc[:,Index]\n",
        "y_test_alfa=test.iloc[:,Index]\n",
        "\n",
        "Index=[7] #p\n",
        "Y_OLD_p=DAT_OLD.iloc[:,Index]           \n",
        "y_train_p=train.iloc[:,Index]\n",
        "y_test_p=test.iloc[:,Index]\n",
        "\n",
        "print(y_train_alfa.head())\n",
        "print(y_train_p.head())\n",
        "print('================================================================')\n",
        "print(y_test_alfa.head())\n",
        "print(y_test_p.head())\n",
        "print('================================================================')\n",
        "print(Y_OLD.head())\n",
        "print(Y_OLD_alfa.head())\n",
        "print(Y_OLD_p.head())"
      ],
      "execution_count": 136,
      "outputs": [
        {
          "output_type": "stream",
          "text": [
            "    alfa      p\n",
            "0  37.18  13.72\n",
            "1  27.12  12.74\n",
            "2  37.27  11.78\n",
            "3  34.56  11.27\n",
            "4   0.00   0.00\n",
            "        alfa\n",
            "84 -1.000000\n",
            "19  0.597228\n",
            "50  0.023387\n",
            "44  0.165440\n",
            "20  1.000000\n",
            "           p\n",
            "84 -1.000000\n",
            "19  0.369863\n",
            "50  0.086301\n",
            "44  0.356164\n",
            "20  0.212329\n",
            "================================================================\n",
            "       alfa\n",
            "0  0.610221\n",
            "1  0.174534\n",
            "3  0.496752\n",
            "5  0.694240\n",
            "9 -1.000000\n",
            "          p\n",
            "0  0.879452\n",
            "1  0.745205\n",
            "3  0.543836\n",
            "5  0.778082\n",
            "9 -1.000000\n",
            "================================================================\n",
            "    alfa      p\n",
            "0  37.18  13.72\n",
            "1  27.12  12.74\n",
            "2  37.27  11.78\n",
            "3  34.56  11.27\n",
            "4   0.00   0.00\n",
            "    alfa\n",
            "0  37.18\n",
            "1  27.12\n",
            "2  37.27\n",
            "3  34.56\n",
            "4   0.00\n",
            "       p\n",
            "0  13.72\n",
            "1  12.74\n",
            "2  11.78\n",
            "3  11.27\n",
            "4   0.00\n"
          ],
          "name": "stdout"
        }
      ]
    },
    {
      "metadata": {
        "id": "zC70BsAG5eAC",
        "colab_type": "code",
        "colab": {}
      },
      "cell_type": "code",
      "source": [
        "Neuron=8"
      ],
      "execution_count": 0,
      "outputs": []
    },
    {
      "metadata": {
        "id": "sANIO3A0rpS9",
        "colab_type": "code",
        "colab": {}
      },
      "cell_type": "code",
      "source": [
        "# define a rede neural alfa\n",
        "clf_alfa = MLPRegressor(solver='lbfgs',activation='tanh',alpha=1e-5,hidden_layer_sizes=(Neuron), \n",
        "                    random_state=1)"
      ],
      "execution_count": 0,
      "outputs": []
    },
    {
      "metadata": {
        "id": "Z0NoFoiE5Q6h",
        "colab_type": "code",
        "colab": {}
      },
      "cell_type": "code",
      "source": [
        "# define a rede neural p\n",
        "clf_p = MLPRegressor(solver='lbfgs',activation='relu',alpha=1e-5,hidden_layer_sizes=(Neuron), \n",
        "                    random_state=1)"
      ],
      "execution_count": 0,
      "outputs": []
    },
    {
      "metadata": {
        "id": "7yep5T1yrpS-",
        "colab_type": "code",
        "colab": {
          "base_uri": "https://localhost:8080/",
          "height": 190
        },
        "outputId": "5916266b-f432-4ee3-fd8b-256b7bcd6016"
      },
      "cell_type": "code",
      "source": [
        "# treina a rede neural alfa\n",
        "clf_alfa.fit(x_train,y_train_alfa)"
      ],
      "execution_count": 140,
      "outputs": [
        {
          "output_type": "stream",
          "text": [
            "/usr/local/lib/python3.6/dist-packages/sklearn/neural_network/multilayer_perceptron.py:1306: DataConversionWarning: A column-vector y was passed when a 1d array was expected. Please change the shape of y to (n_samples, ), for example using ravel().\n",
            "  y = column_or_1d(y, warn=True)\n"
          ],
          "name": "stderr"
        },
        {
          "output_type": "execute_result",
          "data": {
            "text/plain": [
              "MLPRegressor(activation='tanh', alpha=1e-05, batch_size='auto', beta_1=0.9,\n",
              "       beta_2=0.999, early_stopping=False, epsilon=1e-08,\n",
              "       hidden_layer_sizes=8, learning_rate='constant',\n",
              "       learning_rate_init=0.001, max_iter=200, momentum=0.9,\n",
              "       nesterovs_momentum=True, power_t=0.5, random_state=1, shuffle=True,\n",
              "       solver='lbfgs', tol=0.0001, validation_fraction=0.1, verbose=False,\n",
              "       warm_start=False)"
            ]
          },
          "metadata": {
            "tags": []
          },
          "execution_count": 140
        }
      ]
    },
    {
      "metadata": {
        "id": "o0FqJXxc5q2w",
        "colab_type": "code",
        "colab": {
          "base_uri": "https://localhost:8080/",
          "height": 190
        },
        "outputId": "fc5efa4a-c0cd-4cfd-e9c1-4c54be9186a7"
      },
      "cell_type": "code",
      "source": [
        "# treina a rede neural p\n",
        "clf_p.fit(x_train, y_train_p)"
      ],
      "execution_count": 141,
      "outputs": [
        {
          "output_type": "stream",
          "text": [
            "/usr/local/lib/python3.6/dist-packages/sklearn/neural_network/multilayer_perceptron.py:1306: DataConversionWarning: A column-vector y was passed when a 1d array was expected. Please change the shape of y to (n_samples, ), for example using ravel().\n",
            "  y = column_or_1d(y, warn=True)\n"
          ],
          "name": "stderr"
        },
        {
          "output_type": "execute_result",
          "data": {
            "text/plain": [
              "MLPRegressor(activation='relu', alpha=1e-05, batch_size='auto', beta_1=0.9,\n",
              "       beta_2=0.999, early_stopping=False, epsilon=1e-08,\n",
              "       hidden_layer_sizes=8, learning_rate='constant',\n",
              "       learning_rate_init=0.001, max_iter=200, momentum=0.9,\n",
              "       nesterovs_momentum=True, power_t=0.5, random_state=1, shuffle=True,\n",
              "       solver='lbfgs', tol=0.0001, validation_fraction=0.1, verbose=False,\n",
              "       warm_start=False)"
            ]
          },
          "metadata": {
            "tags": []
          },
          "execution_count": 141
        }
      ]
    },
    {
      "metadata": {
        "id": "5Aq-_nhyrpS-",
        "colab_type": "code",
        "colab": {
          "base_uri": "https://localhost:8080/",
          "height": 34
        },
        "outputId": "ca713a67-614f-43ed-94dd-59a5da617986"
      },
      "cell_type": "code",
      "source": [
        "# usa a rede neural treina em calculos para treino e teste \n",
        "# predizer os dados de saida (y) tanto para traino quanto para teste\n",
        "# pois quero no gráfico essas duas informações\n",
        "y_calc_train=clf_alfa.predict(x_train)\n",
        "y_calc_test=clf_alfa.predict(x_test)\n",
        "#print(y_calc_train[:,:])\n",
        "print(y_calc_test.shape[0])"
      ],
      "execution_count": 142,
      "outputs": [
        {
          "output_type": "stream",
          "text": [
            "25\n"
          ],
          "name": "stdout"
        }
      ]
    },
    {
      "metadata": {
        "id": "kMJuDgUCrpS_",
        "colab_type": "code",
        "colab": {
          "base_uri": "https://localhost:8080/",
          "height": 136
        },
        "outputId": "5b998702-a9d1-4bf5-abea-9b0d1d55b984"
      },
      "cell_type": "code",
      "source": [
        "# transforma a saida da rede em dataframe \n",
        "y_calc_train=pd.DataFrame(y_calc_train)\n",
        "y_calc_test=pd.DataFrame(y_calc_test)\n",
        "col_names=list(Y_OLD_alfa)\n",
        "y_calc_train.columns = col_names\n",
        "y_calc_test.columns = col_names\n",
        "print(y_calc_train.head())\n",
        "print(y_calc_test.shape[0])"
      ],
      "execution_count": 143,
      "outputs": [
        {
          "output_type": "stream",
          "text": [
            "       alfa\n",
            "0 -0.840209\n",
            "1  0.669720\n",
            "2 -0.066845\n",
            "3  0.115372\n",
            "4  0.961761\n",
            "25\n"
          ],
          "name": "stdout"
        }
      ]
    },
    {
      "metadata": {
        "id": "lpC2hEPmrpS_",
        "colab_type": "code",
        "colab": {
          "base_uri": "https://localhost:8080/",
          "height": 255
        },
        "outputId": "f40e5926-3e6a-4786-e8bc-416ec1f566c1"
      },
      "cell_type": "code",
      "source": [
        "# transforma dos dados calculados na forma original (nao normatizado)\n",
        "y_calc_train=Original(y_calc_train,Y_OLD_alfa)\n",
        "y_calc_test=Original(y_calc_test,Y_OLD_alfa)\n",
        "print(y_calc_test.head())\n",
        "print(y_calc_test.shape[0])\n",
        "\n",
        "print('================================================================')\n",
        "print(y_calc_train.head())\n"
      ],
      "execution_count": 144,
      "outputs": [
        {
          "output_type": "stream",
          "text": [
            "        alfa\n",
            "0  28.086771\n",
            "1   1.668911\n",
            "2  28.151715\n",
            "3  43.898507\n",
            "4  54.218314\n",
            "25\n",
            "================================================================\n",
            "        alfa\n",
            "0   3.689582\n",
            "1  38.553841\n",
            "2  21.546541\n",
            "3  25.753941\n",
            "4  45.297055\n"
          ],
          "name": "stdout"
        }
      ]
    },
    {
      "metadata": {
        "id": "bK1dYRnKrpTA",
        "colab_type": "code",
        "colab": {
          "base_uri": "https://localhost:8080/",
          "height": 68
        },
        "outputId": "673ccddd-65d9-49e7-e922-8b8ee17c94c5"
      },
      "cell_type": "code",
      "source": [
        "# recupera os dados originais \n",
        "test=[]\n",
        "train=[]\n",
        "train=Original(y_train_alfa,Y_OLD_alfa)\n",
        "test=Original(y_test_alfa,Y_OLD_alfa)\n",
        "print(train.shape[0])\n",
        "print('===================================================================')\n",
        "print(test.shape[0])"
      ],
      "execution_count": 145,
      "outputs": [
        {
          "output_type": "stream",
          "text": [
            "75\n",
            "===================================================================\n",
            "25\n"
          ],
          "name": "stdout"
        }
      ]
    },
    {
      "metadata": {
        "id": "PHbzkxPqrpTA",
        "colab_type": "code",
        "colab": {
          "base_uri": "https://localhost:8080/",
          "height": 187
        },
        "outputId": "1e4a5e9c-820c-4157-98f5-4c6270de4eb9"
      },
      "cell_type": "code",
      "source": [
        "# escolhe uma das resposta para fazer o grafico (alfa-treino)\n",
        "alfa_obs_train=[]\n",
        "alfa_calc_train=[]\n",
        "alfa_calc_train=y_calc_train['alfa'].copy()\n",
        "alfa_obs_train=train['alfa'].copy()\n",
        "print(alfa_calc_test.head())\n",
        "print(alfa_calc_train.shape[0])\n",
        "print(alfa_obs_train.shape[0])\n",
        "print(alfa_obs_test.shape[0])\n",
        "print(alfa_calc_test.shape[0])"
      ],
      "execution_count": 146,
      "outputs": [
        {
          "output_type": "stream",
          "text": [
            "0    38.334655\n",
            "1    38.496897\n",
            "2    22.802553\n",
            "3    45.325955\n",
            "4    24.175206\n",
            "Name: alfa, dtype: float64\n",
            "75\n",
            "75\n",
            "25\n",
            "25\n"
          ],
          "name": "stdout"
        }
      ]
    },
    {
      "metadata": {
        "id": "2lZ7HhCnFWL4",
        "colab_type": "code",
        "colab": {}
      },
      "cell_type": "code",
      "source": [
        ""
      ],
      "execution_count": 0,
      "outputs": []
    },
    {
      "metadata": {
        "id": "BIUoZPYtrpTB",
        "colab_type": "code",
        "colab": {
          "base_uri": "https://localhost:8080/",
          "height": 153
        },
        "outputId": "f3a50923-01d1-4ab4-b6b8-0bc27f032c3f"
      },
      "cell_type": "code",
      "source": [
        "# escolhe uma das resposta para fazer o grafico (alfa-teste)\n",
        "alfa_obs_test=[]\n",
        "alfa_calc_test=[]\n",
        "alfa_calc_test=y_calc_test['alfa'].copy()\n",
        "alfa_obs_test=test['alfa'].copy()\n",
        "print(alfa_calc_test.head())\n",
        "print(alfa_calc_test.shape[0])\n",
        "print(alfa_obs_test.shape[0])"
      ],
      "execution_count": 147,
      "outputs": [
        {
          "output_type": "stream",
          "text": [
            "0    28.086771\n",
            "1     1.668911\n",
            "2    28.151715\n",
            "3    43.898507\n",
            "4    54.218314\n",
            "Name: alfa, dtype: float64\n",
            "25\n",
            "25\n"
          ],
          "name": "stdout"
        }
      ]
    },
    {
      "metadata": {
        "id": "BnO6fYDQrpTC",
        "colab_type": "code",
        "colab": {
          "base_uri": "https://localhost:8080/",
          "height": 279
        },
        "outputId": "49871885-a0bc-4427-a79d-d8ed7b996a76"
      },
      "cell_type": "code",
      "source": [
        "# expressa os dois dados em figura\n",
        "fig = plt.figure()\n",
        "ax1 = fig.add_subplot(111)#mostra dois graficos sob o mesmo eixo \n",
        "\n",
        "ax1.scatter(alfa_obs_test,alfa_calc_test, s=10, c='b', marker=\"s\", label='teste')\n",
        "ax1.scatter(alfa_obs_train,alfa_calc_train, s=10, c='r', marker=\"o\", label='treino')\n",
        "plt.legend(loc='upper left')\n",
        "plt.ylabel('alfa Calc')\n",
        "plt.xlabel('alfa Obs')\n",
        "plt.show()"
      ],
      "execution_count": 148,
      "outputs": [
        {
          "output_type": "display_data",
          "data": {
            "image/png": "[encoded data removed]",
            "text/plain": [
              "<matplotlib.figure.Figure at 0x7f251031b128>"
            ]
          },
          "metadata": {
            "tags": []
          }
        }
      ]
    },
    {
      "metadata": {
        "id": "H2P6OClerpTC",
        "colab_type": "code",
        "colab": {}
      },
      "cell_type": "code",
      "source": [
        "#from é usado para carregar apenas uma função de uma biblioteca\n",
        "from sklearn.metrics import mean_squared_error\n",
        "from sklearn.metrics import r2_score "
      ],
      "execution_count": 0,
      "outputs": []
    },
    {
      "metadata": {
        "id": "ywqDO_2irpTD",
        "colab_type": "code",
        "colab": {
          "base_uri": "https://localhost:8080/",
          "height": 51
        },
        "outputId": "78783999-40fa-4b7f-d327-303c2fb4f3bd"
      },
      "cell_type": "code",
      "source": [
        "mse=mean_squared_error(alfa_obs_test,alfa_calc_test)\n",
        "print(\"MSE teste=\",mse)\n",
        "R2=r2_score(alfa_obs_test,alfa_calc_test)\n",
        "print(\"R^2 teste=\",R2)"
      ],
      "execution_count": 150,
      "outputs": [
        {
          "output_type": "stream",
          "text": [
            "MSE teste= 758.0747041572275\n",
            "R^2 teste= -4.599850867746769\n"
          ],
          "name": "stdout"
        }
      ]
    },
    {
      "metadata": {
        "id": "YssNSRRIrpTD",
        "colab_type": "code",
        "colab": {
          "base_uri": "https://localhost:8080/",
          "height": 51
        },
        "outputId": "ebf3e3d0-00ef-4d00-e9d3-44976f8cf139"
      },
      "cell_type": "code",
      "source": [
        "mse=mean_squared_error(alfa_obs_train,alfa_calc_train)\n",
        "print(\"MSE treino=\",mse)\n",
        "R2=r2_score(alfa_obs_train,alfa_calc_train)\n",
        "print(\"R^2 treino=\",R2)"
      ],
      "execution_count": 151,
      "outputs": [
        {
          "output_type": "stream",
          "text": [
            "MSE treino= 3.7597972473396037\n",
            "R^2 treino= 0.9687976408482007\n"
          ],
          "name": "stdout"
        }
      ]
    },
    {
      "metadata": {
        "id": "lnN15MR9FWsO",
        "colab_type": "code",
        "colab": {
          "base_uri": "https://localhost:8080/",
          "height": 1268
        },
        "outputId": "3092378e-9a04-4097-da78-71c0e7353667"
      },
      "cell_type": "code",
      "source": [
        "#variavel Sinkage\n",
        "p_calc_train=y_calc_train['Sinkage'].copy()\n",
        "p_obs_train=train['Sinkage'].copy()\n",
        "p_calc_test=y_calc_test['Sinkage'].copy()\n",
        "p_obs_test=test['Sinkage'].copy()\n",
        "fig = plt.figure()\n",
        "ax1 = fig.add_subplot(111)\n",
        "ax1.scatter(p_obs_test,p_calc_test, s=10, c='b', marker=\"s\", label='teste')\n",
        "ax1.scatter(p_obs_train,p_calc_train, s=10, c='r', marker=\"o\", label='treino')\n",
        "plt.legend(loc='upper left')\n",
        "plt.ylabel('Sinkage Calc')\n",
        "plt.xlabel('Sinkage Obs')\n",
        "plt.show()\n",
        "mse=mean_squared_error(p_obs_test,p_calc_test)\n",
        "print(\"MSE teste=\",mse)\n",
        "R2=r2_score(p_obs_test,p_calc_test)\n",
        "print(\"R^2 teste=\",R2)\n",
        "print('================================================================')\n",
        "mse=mean_squared_error(p_obs_train,p_calc_train)\n",
        "print(\"MSE treino=\",mse)\n",
        "R2=r2_score(p_obs_train,p_calc_train)\n",
        "print(\"R^2 treino=\",R2)"
      ],
      "execution_count": 152,
      "outputs": [
        {
          "output_type": "error",
          "ename": "KeyError",
          "evalue": "ignored",
          "traceback": [
            "\u001b[0;31m---------------------------------------------------------------------------\u001b[0m",
            "\u001b[0;31mKeyError\u001b[0m                                  Traceback (most recent call last)",
            "\u001b[0;32m/usr/local/lib/python3.6/dist-packages/pandas/core/indexes/base.py\u001b[0m in \u001b[0;36mget_loc\u001b[0;34m(self, key, method, tolerance)\u001b[0m\n\u001b[1;32m   2524\u001b[0m             \u001b[0;32mtry\u001b[0m\u001b[0;34m:\u001b[0m\u001b[0;34m\u001b[0m\u001b[0m\n\u001b[0;32m-> 2525\u001b[0;31m                 \u001b[0;32mreturn\u001b[0m \u001b[0mself\u001b[0m\u001b[0;34m.\u001b[0m\u001b[0m_engine\u001b[0m\u001b[0;34m.\u001b[0m\u001b[0mget_loc\u001b[0m\u001b[0;34m(\u001b[0m\u001b[0mkey\u001b[0m\u001b[0;34m)\u001b[0m\u001b[0;34m\u001b[0m\u001b[0m\n\u001b[0m\u001b[1;32m   2526\u001b[0m             \u001b[0;32mexcept\u001b[0m \u001b[0mKeyError\u001b[0m\u001b[0;34m:\u001b[0m\u001b[0;34m\u001b[0m\u001b[0m\n",
            "\u001b[0;32mpandas/_libs/index.pyx\u001b[0m in \u001b[0;36mpandas._libs.index.IndexEngine.get_loc\u001b[0;34m()\u001b[0m\n",
            "\u001b[0;32mpandas/_libs/index.pyx\u001b[0m in \u001b[0;36mpandas._libs.index.IndexEngine.get_loc\u001b[0;34m()\u001b[0m\n",
            "\u001b[0;32mpandas/_libs/hashtable_class_helper.pxi\u001b[0m in \u001b[0;36mpandas._libs.hashtable.PyObjectHashTable.get_item\u001b[0;34m()\u001b[0m\n",
            "\u001b[0;32mpandas/_libs/hashtable_class_helper.pxi\u001b[0m in \u001b[0;36mpandas._libs.hashtable.PyObjectHashTable.get_item\u001b[0;34m()\u001b[0m\n",
            "\u001b[0;31mKeyError\u001b[0m: 'Sinkage'",
            "\nDuring handling of the above exception, another exception occurred:\n",
            "\u001b[0;31mKeyError\u001b[0m                                  Traceback (most recent call last)",
            "\u001b[0;32m<ipython-input-152-9cdcf579b542>\u001b[0m in \u001b[0;36m<module>\u001b[0;34m()\u001b[0m\n\u001b[0;32m----> 1\u001b[0;31m \u001b[0mp_calc_train\u001b[0m\u001b[0;34m=\u001b[0m\u001b[0my_calc_train\u001b[0m\u001b[0;34m[\u001b[0m\u001b[0;34m'Sinkage'\u001b[0m\u001b[0;34m]\u001b[0m\u001b[0;34m.\u001b[0m\u001b[0mcopy\u001b[0m\u001b[0;34m(\u001b[0m\u001b[0;34m)\u001b[0m\u001b[0;34m\u001b[0m\u001b[0m\n\u001b[0m\u001b[1;32m      2\u001b[0m \u001b[0mp_obs_train\u001b[0m\u001b[0;34m=\u001b[0m\u001b[0mtrain\u001b[0m\u001b[0;34m[\u001b[0m\u001b[0;34m'Sinkage'\u001b[0m\u001b[0;34m]\u001b[0m\u001b[0;34m.\u001b[0m\u001b[0mcopy\u001b[0m\u001b[0;34m(\u001b[0m\u001b[0;34m)\u001b[0m\u001b[0;34m\u001b[0m\u001b[0m\n\u001b[1;32m      3\u001b[0m \u001b[0mp_calc_test\u001b[0m\u001b[0;34m=\u001b[0m\u001b[0my_calc_test\u001b[0m\u001b[0;34m[\u001b[0m\u001b[0;34m'Sinkage'\u001b[0m\u001b[0;34m]\u001b[0m\u001b[0;34m.\u001b[0m\u001b[0mcopy\u001b[0m\u001b[0;34m(\u001b[0m\u001b[0;34m)\u001b[0m\u001b[0;34m\u001b[0m\u001b[0m\n\u001b[1;32m      4\u001b[0m \u001b[0mp_obs_test\u001b[0m\u001b[0;34m=\u001b[0m\u001b[0mtest\u001b[0m\u001b[0;34m[\u001b[0m\u001b[0;34m'Sinkage'\u001b[0m\u001b[0;34m]\u001b[0m\u001b[0;34m.\u001b[0m\u001b[0mcopy\u001b[0m\u001b[0;34m(\u001b[0m\u001b[0;34m)\u001b[0m\u001b[0;34m\u001b[0m\u001b[0m\n\u001b[1;32m      5\u001b[0m \u001b[0mfig\u001b[0m \u001b[0;34m=\u001b[0m \u001b[0mplt\u001b[0m\u001b[0;34m.\u001b[0m\u001b[0mfigure\u001b[0m\u001b[0;34m(\u001b[0m\u001b[0;34m)\u001b[0m\u001b[0;34m\u001b[0m\u001b[0m\n",
            "\u001b[0;32m/usr/local/lib/python3.6/dist-packages/pandas/core/frame.py\u001b[0m in \u001b[0;36m__getitem__\u001b[0;34m(self, key)\u001b[0m\n\u001b[1;32m   2137\u001b[0m             \u001b[0;32mreturn\u001b[0m \u001b[0mself\u001b[0m\u001b[0;34m.\u001b[0m\u001b[0m_getitem_multilevel\u001b[0m\u001b[0;34m(\u001b[0m\u001b[0mkey\u001b[0m\u001b[0;34m)\u001b[0m\u001b[0;34m\u001b[0m\u001b[0m\n\u001b[1;32m   2138\u001b[0m         \u001b[0;32melse\u001b[0m\u001b[0;34m:\u001b[0m\u001b[0;34m\u001b[0m\u001b[0m\n\u001b[0;32m-> 2139\u001b[0;31m             \u001b[0;32mreturn\u001b[0m \u001b[0mself\u001b[0m\u001b[0;34m.\u001b[0m\u001b[0m_getitem_column\u001b[0m\u001b[0;34m(\u001b[0m\u001b[0mkey\u001b[0m\u001b[0;34m)\u001b[0m\u001b[0;34m\u001b[0m\u001b[0m\n\u001b[0m\u001b[1;32m   2140\u001b[0m \u001b[0;34m\u001b[0m\u001b[0m\n\u001b[1;32m   2141\u001b[0m     \u001b[0;32mdef\u001b[0m \u001b[0m_getitem_column\u001b[0m\u001b[0;34m(\u001b[0m\u001b[0mself\u001b[0m\u001b[0;34m,\u001b[0m \u001b[0mkey\u001b[0m\u001b[0;34m)\u001b[0m\u001b[0;34m:\u001b[0m\u001b[0;34m\u001b[0m\u001b[0m\n",
            "\u001b[0;32m/usr/local/lib/python3.6/dist-packages/pandas/core/frame.py\u001b[0m in \u001b[0;36m_getitem_column\u001b[0;34m(self, key)\u001b[0m\n\u001b[1;32m   2144\u001b[0m         \u001b[0;31m# get column\u001b[0m\u001b[0;34m\u001b[0m\u001b[0;34m\u001b[0m\u001b[0m\n\u001b[1;32m   2145\u001b[0m         \u001b[0;32mif\u001b[0m \u001b[0mself\u001b[0m\u001b[0;34m.\u001b[0m\u001b[0mcolumns\u001b[0m\u001b[0;34m.\u001b[0m\u001b[0mis_unique\u001b[0m\u001b[0;34m:\u001b[0m\u001b[0;34m\u001b[0m\u001b[0m\n\u001b[0;32m-> 2146\u001b[0;31m             \u001b[0;32mreturn\u001b[0m \u001b[0mself\u001b[0m\u001b[0;34m.\u001b[0m\u001b[0m_get_item_cache\u001b[0m\u001b[0;34m(\u001b[0m\u001b[0mkey\u001b[0m\u001b[0;34m)\u001b[0m\u001b[0;34m\u001b[0m\u001b[0m\n\u001b[0m\u001b[1;32m   2147\u001b[0m \u001b[0;34m\u001b[0m\u001b[0m\n\u001b[1;32m   2148\u001b[0m         \u001b[0;31m# duplicate columns & possible reduce dimensionality\u001b[0m\u001b[0;34m\u001b[0m\u001b[0;34m\u001b[0m\u001b[0m\n",
            "\u001b[0;32m/usr/local/lib/python3.6/dist-packages/pandas/core/generic.py\u001b[0m in \u001b[0;36m_get_item_cache\u001b[0;34m(self, item)\u001b[0m\n\u001b[1;32m   1840\u001b[0m         \u001b[0mres\u001b[0m \u001b[0;34m=\u001b[0m \u001b[0mcache\u001b[0m\u001b[0;34m.\u001b[0m\u001b[0mget\u001b[0m\u001b[0;34m(\u001b[0m\u001b[0mitem\u001b[0m\u001b[0;34m)\u001b[0m\u001b[0;34m\u001b[0m\u001b[0m\n\u001b[1;32m   1841\u001b[0m         \u001b[0;32mif\u001b[0m \u001b[0mres\u001b[0m \u001b[0;32mis\u001b[0m \u001b[0;32mNone\u001b[0m\u001b[0;34m:\u001b[0m\u001b[0;34m\u001b[0m\u001b[0m\n\u001b[0;32m-> 1842\u001b[0;31m             \u001b[0mvalues\u001b[0m \u001b[0;34m=\u001b[0m \u001b[0mself\u001b[0m\u001b[0;34m.\u001b[0m\u001b[0m_data\u001b[0m\u001b[0;34m.\u001b[0m\u001b[0mget\u001b[0m\u001b[0;34m(\u001b[0m\u001b[0mitem\u001b[0m\u001b[0;34m)\u001b[0m\u001b[0;34m\u001b[0m\u001b[0m\n\u001b[0m\u001b[1;32m   1843\u001b[0m             \u001b[0mres\u001b[0m \u001b[0;34m=\u001b[0m \u001b[0mself\u001b[0m\u001b[0;34m.\u001b[0m\u001b[0m_box_item_values\u001b[0m\u001b[0;34m(\u001b[0m\u001b[0mitem\u001b[0m\u001b[0;34m,\u001b[0m \u001b[0mvalues\u001b[0m\u001b[0;34m)\u001b[0m\u001b[0;34m\u001b[0m\u001b[0m\n\u001b[1;32m   1844\u001b[0m             \u001b[0mcache\u001b[0m\u001b[0;34m[\u001b[0m\u001b[0mitem\u001b[0m\u001b[0;34m]\u001b[0m \u001b[0;34m=\u001b[0m \u001b[0mres\u001b[0m\u001b[0;34m\u001b[0m\u001b[0m\n",
            "\u001b[0;32m/usr/local/lib/python3.6/dist-packages/pandas/core/internals.py\u001b[0m in \u001b[0;36mget\u001b[0;34m(self, item, fastpath)\u001b[0m\n\u001b[1;32m   3841\u001b[0m \u001b[0;34m\u001b[0m\u001b[0m\n\u001b[1;32m   3842\u001b[0m             \u001b[0;32mif\u001b[0m \u001b[0;32mnot\u001b[0m \u001b[0misna\u001b[0m\u001b[0;34m(\u001b[0m\u001b[0mitem\u001b[0m\u001b[0;34m)\u001b[0m\u001b[0;34m:\u001b[0m\u001b[0;34m\u001b[0m\u001b[0m\n\u001b[0;32m-> 3843\u001b[0;31m                 \u001b[0mloc\u001b[0m \u001b[0;34m=\u001b[0m \u001b[0mself\u001b[0m\u001b[0;34m.\u001b[0m\u001b[0mitems\u001b[0m\u001b[0;34m.\u001b[0m\u001b[0mget_loc\u001b[0m\u001b[0;34m(\u001b[0m\u001b[0mitem\u001b[0m\u001b[0;34m)\u001b[0m\u001b[0;34m\u001b[0m\u001b[0m\n\u001b[0m\u001b[1;32m   3844\u001b[0m             \u001b[0;32melse\u001b[0m\u001b[0;34m:\u001b[0m\u001b[0;34m\u001b[0m\u001b[0m\n\u001b[1;32m   3845\u001b[0m                 \u001b[0mindexer\u001b[0m \u001b[0;34m=\u001b[0m \u001b[0mnp\u001b[0m\u001b[0;34m.\u001b[0m\u001b[0marange\u001b[0m\u001b[0;34m(\u001b[0m\u001b[0mlen\u001b[0m\u001b[0;34m(\u001b[0m\u001b[0mself\u001b[0m\u001b[0;34m.\u001b[0m\u001b[0mitems\u001b[0m\u001b[0;34m)\u001b[0m\u001b[0;34m)\u001b[0m\u001b[0;34m[\u001b[0m\u001b[0misna\u001b[0m\u001b[0;34m(\u001b[0m\u001b[0mself\u001b[0m\u001b[0;34m.\u001b[0m\u001b[0mitems\u001b[0m\u001b[0;34m)\u001b[0m\u001b[0;34m]\u001b[0m\u001b[0;34m\u001b[0m\u001b[0m\n",
            "\u001b[0;32m/usr/local/lib/python3.6/dist-packages/pandas/core/indexes/base.py\u001b[0m in \u001b[0;36mget_loc\u001b[0;34m(self, key, method, tolerance)\u001b[0m\n\u001b[1;32m   2525\u001b[0m                 \u001b[0;32mreturn\u001b[0m \u001b[0mself\u001b[0m\u001b[0;34m.\u001b[0m\u001b[0m_engine\u001b[0m\u001b[0;34m.\u001b[0m\u001b[0mget_loc\u001b[0m\u001b[0;34m(\u001b[0m\u001b[0mkey\u001b[0m\u001b[0;34m)\u001b[0m\u001b[0;34m\u001b[0m\u001b[0m\n\u001b[1;32m   2526\u001b[0m             \u001b[0;32mexcept\u001b[0m \u001b[0mKeyError\u001b[0m\u001b[0;34m:\u001b[0m\u001b[0;34m\u001b[0m\u001b[0m\n\u001b[0;32m-> 2527\u001b[0;31m                 \u001b[0;32mreturn\u001b[0m \u001b[0mself\u001b[0m\u001b[0;34m.\u001b[0m\u001b[0m_engine\u001b[0m\u001b[0;34m.\u001b[0m\u001b[0mget_loc\u001b[0m\u001b[0;34m(\u001b[0m\u001b[0mself\u001b[0m\u001b[0;34m.\u001b[0m\u001b[0m_maybe_cast_indexer\u001b[0m\u001b[0;34m(\u001b[0m\u001b[0mkey\u001b[0m\u001b[0;34m)\u001b[0m\u001b[0;34m)\u001b[0m\u001b[0;34m\u001b[0m\u001b[0m\n\u001b[0m\u001b[1;32m   2528\u001b[0m \u001b[0;34m\u001b[0m\u001b[0m\n\u001b[1;32m   2529\u001b[0m         \u001b[0mindexer\u001b[0m \u001b[0;34m=\u001b[0m \u001b[0mself\u001b[0m\u001b[0;34m.\u001b[0m\u001b[0mget_indexer\u001b[0m\u001b[0;34m(\u001b[0m\u001b[0;34m[\u001b[0m\u001b[0mkey\u001b[0m\u001b[0;34m]\u001b[0m\u001b[0;34m,\u001b[0m \u001b[0mmethod\u001b[0m\u001b[0;34m=\u001b[0m\u001b[0mmethod\u001b[0m\u001b[0;34m,\u001b[0m \u001b[0mtolerance\u001b[0m\u001b[0;34m=\u001b[0m\u001b[0mtolerance\u001b[0m\u001b[0;34m)\u001b[0m\u001b[0;34m\u001b[0m\u001b[0m\n",
            "\u001b[0;32mpandas/_libs/index.pyx\u001b[0m in \u001b[0;36mpandas._libs.index.IndexEngine.get_loc\u001b[0;34m()\u001b[0m\n",
            "\u001b[0;32mpandas/_libs/index.pyx\u001b[0m in \u001b[0;36mpandas._libs.index.IndexEngine.get_loc\u001b[0;34m()\u001b[0m\n",
            "\u001b[0;32mpandas/_libs/hashtable_class_helper.pxi\u001b[0m in \u001b[0;36mpandas._libs.hashtable.PyObjectHashTable.get_item\u001b[0;34m()\u001b[0m\n",
            "\u001b[0;32mpandas/_libs/hashtable_class_helper.pxi\u001b[0m in \u001b[0;36mpandas._libs.hashtable.PyObjectHashTable.get_item\u001b[0;34m()\u001b[0m\n",
            "\u001b[0;31mKeyError\u001b[0m: 'Sinkage'"
          ]
        }
      ]
    },
    {
      "metadata": {
        "id": "-XBqQ-cvFWpL",
        "colab_type": "code",
        "colab": {}
      },
      "cell_type": "code",
      "source": [
        "#variavel Trim\n",
        "resist_calc_train=y_calc_train['Trim'].copy()\n",
        "resist_obs_train=train['Trim'].copy()\n",
        "resist_calc_test=y_calc_test['Trim'].copy()\n",
        "resist_obs_test=test['Trim'].copy()\n",
        "fig = plt.figure()\n",
        "ax1 = fig.add_subplot(111)\n",
        "ax1.scatter(resist_obs_test,resist_calc_test, s=10, c='b', marker=\"s\", label='teste')\n",
        "ax1.scatter(resist_obs_train,resist_calc_train, s=10, c='r', marker=\"o\", label='treino')\n",
        "plt.legend(loc='upper left')\n",
        "plt.ylabel('Trim Calc')\n",
        "plt.xlabel('Trim Obs')\n",
        "plt.show()\n",
        "mse=mean_squared_error(resist_obs_test,resist_calc_test)\n",
        "print(\"MSE teste=\",mse)\n",
        "R2=r2_score(resist_obs_test,resist_calc_test)\n",
        "print(\"R^2 teste=\",R2)\n",
        "print('================================================================')\n",
        "mse=mean_squared_error(resist_obs_train,resist_calc_train)\n",
        "print(\"MSE treino=\",mse)\n",
        "R2=r2_score(resist_obs_train,resist_calc_train)\n",
        "print(\"R^2 treino=\",R2)"
      ],
      "execution_count": 0,
      "outputs": []
    },
    {
      "metadata": {
        "id": "3n7-rWACGfN5",
        "colab_type": "code",
        "colab": {}
      },
      "cell_type": "code",
      "source": [
        "#variavel Power\n",
        "resist_calc_train=y_calc_train['Power'].copy()\n",
        "resist_obs_train=train['Power'].copy()\n",
        "resist_calc_test=y_calc_test['Power'].copy()\n",
        "resist_obs_test=test['Power'].copy()\n",
        "fig = plt.figure()\n",
        "ax1 = fig.add_subplot(111)\n",
        "ax1.scatter(resist_obs_test,resist_calc_test, s=10, c='b', marker=\"s\", label='teste')\n",
        "ax1.scatter(resist_obs_train,resist_calc_train, s=10, c='r', marker=\"o\", label='treino')\n",
        "plt.legend(loc='upper left')\n",
        "plt.ylabel('Power Calc')\n",
        "plt.xlabel('Power Obs')\n",
        "plt.show()\n",
        "mse=mean_squared_error(resist_obs_test,resist_calc_test)\n",
        "print(\"MSE teste=\",mse)\n",
        "R2=r2_score(resist_obs_test,resist_calc_test)\n",
        "print(\"R^2 teste=\",R2)\n",
        "print('================================================================')\n",
        "mse=mean_squared_error(resist_obs_train,resist_calc_train)\n",
        "print(\"MSE treino=\",mse)\n",
        "R2=r2_score(resist_obs_train,resist_calc_train)\n",
        "print(\"R^2 treino=\",R2)"
      ],
      "execution_count": 0,
      "outputs": []
    }
  ]
}